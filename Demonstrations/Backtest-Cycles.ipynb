{
 "cells": [
  {
   "cell_type": "code",
   "execution_count": 1,
   "id": "joined-driver",
   "metadata": {},
   "outputs": [],
   "source": [
    "# !pip3 install shutup # Kills warning/error? messages.\n",
    "# !pip3 install yfinance\n",
    "# !pip3 install uncertainties\n",
    "import shutup\n",
    "shutup.please()"
   ]
  },
  {
   "cell_type": "code",
   "execution_count": 2,
   "id": "2dfe47a0",
   "metadata": {},
   "outputs": [
    {
     "name": "stdout",
     "output_type": "stream",
     "text": [
      "Populating the interactive namespace from numpy and matplotlib\n"
     ]
    }
   ],
   "source": [
    "%pylab inline --no-import-all\n",
    "%load_ext autoreload\n",
    "from sys import path; path.append('../')\n",
    "from cycles.cycles import *\n",
    "import pickle"
   ]
  },
  {
   "cell_type": "markdown",
   "id": "confident-modification",
   "metadata": {},
   "source": [
    "Load data from Yahoo Finance"
   ]
  },
  {
   "cell_type": "code",
   "execution_count": 3,
   "id": "latter-disease",
   "metadata": {},
   "outputs": [
    {
     "name": "stdout",
     "output_type": "stream",
     "text": [
      "loading: ^IXIC\n",
      "[*********************100%***********************]  1 of 1 completed\n",
      "loading: ^DJI\n",
      "[*********************100%***********************]  1 of 1 completed\n"
     ]
    }
   ],
   "source": [
    "update_adj_close([\"^IXIC\",\"^DJI\"],path=\"../cycles/data\")"
   ]
  },
  {
   "cell_type": "code",
   "execution_count": 4,
   "id": "stretch-legislation",
   "metadata": {
    "tags": []
   },
   "outputs": [],
   "source": [
    "start_date = \"1992-01-02\"\n",
    "p = Portfolio(start_date, 50000)"
   ]
  },
  {
   "cell_type": "markdown",
   "id": "fourth-disposition",
   "metadata": {},
   "source": [
    "Buy as many shares of ^IXIC as possible on `start_date`"
   ]
  },
  {
   "cell_type": "code",
   "execution_count": 5,
   "id": "little-struggle",
   "metadata": {
    "tags": []
   },
   "outputs": [],
   "source": [
    "symbol = \"^IXIC\"\n",
    "p.buy(symbol, start_date)"
   ]
  },
  {
   "cell_type": "markdown",
   "id": "macro-fetish",
   "metadata": {},
   "source": [
    "Initialize a test object, which will test from the last activity date of the portfolio (currently `start_date`) through 2021-02-26"
   ]
  },
  {
   "cell_type": "code",
   "execution_count": 6,
   "id": "identical-probe",
   "metadata": {
    "tags": []
   },
   "outputs": [],
   "source": [
    "end_date = \"2021-02-26\"\n",
    "test = Strategies(p, end_date)"
   ]
  },
  {
   "cell_type": "markdown",
   "id": "afraid-heritage",
   "metadata": {},
   "source": [
    "Run a cycles test using \"absolute\" cycles requirement"
   ]
  },
  {
   "cell_type": "code",
   "execution_count": 7,
   "id": "historical-business",
   "metadata": {
    "tags": []
   },
   "outputs": [
    {
     "name": "stdout",
     "output_type": "stream",
     "text": [
      "processing: ^IXIC\n",
      "(1992-02-05 00:00:00) num_pass: 7, sell: 4, threshold: 4 - selling\n",
      "(1992-02-13 00:00:00) num_pass: 5, buy: 4, threshold: 4 - buying\n",
      "(1992-05-19 00:00:00) num_pass: 5, sell: 4, threshold: 4 - selling\n",
      "(1992-07-01 00:00:00) num_pass: 5, buy: 5, threshold: 4 - buying\n",
      "(1992-07-28 00:00:00) num_pass: 5, sell: 5, threshold: 4 - selling\n",
      "(1992-09-17 00:00:00) num_pass: 6, buy: 4, threshold: 4 - buying\n",
      "(1992-12-03 00:00:00) num_pass: 6, sell: 4, threshold: 4 - selling\n",
      "(1993-03-10 00:00:00) num_pass: 7, buy: 4, threshold: 4 - buying\n",
      "(1993-04-22 00:00:00) num_pass: 5, sell: 4, threshold: 4 - selling\n",
      "(1993-05-10 00:00:00) num_pass: 6, buy: 5, threshold: 4 - buying\n",
      "(1993-06-04 00:00:00) num_pass: 6, sell: 4, threshold: 4 - selling\n",
      "(1993-07-09 00:00:00) num_pass: 6, buy: 4, threshold: 4 - buying\n",
      "(1994-01-24 00:00:00) num_pass: 5, sell: 4, threshold: 4 - selling\n",
      "(1994-04-04 00:00:00) num_pass: 7, buy: 5, threshold: 4 - buying\n",
      "(1994-05-09 00:00:00) num_pass: 6, sell: 4, threshold: 4 - selling\n",
      "(1994-05-25 00:00:00) num_pass: 6, buy: 4, threshold: 4 - buying\n",
      "(1994-06-03 00:00:00) num_pass: 5, sell: 4, threshold: 4 - selling\n",
      "(1994-06-13 00:00:00) num_pass: 5, buy: 4, threshold: 4 - buying\n",
      "(1994-06-29 00:00:00) num_pass: 7, sell: 4, threshold: 4 - selling\n",
      "(1994-07-08 00:00:00) num_pass: 5, buy: 4, threshold: 4 - buying\n",
      "(1994-09-15 00:00:00) num_pass: 5, sell: 4, threshold: 4 - selling\n",
      "(1994-12-09 00:00:00) num_pass: 5, buy: 4, threshold: 4 - buying\n",
      "(1995-01-06 00:00:00) num_pass: 6, sell: 4, threshold: 4 - selling\n",
      "(1995-01-16 00:00:00) num_pass: 5, buy: 4, threshold: 4 - buying\n",
      "(1995-01-24 00:00:00) num_pass: 5, sell: 5, threshold: 4 - selling\n",
      "(1995-02-28 00:00:00) num_pass: 6, buy: 4, threshold: 4 - buying\n",
      "(1995-03-16 00:00:00) num_pass: 5, sell: 4, threshold: 4 - selling\n",
      "(1995-06-12 00:00:00) num_pass: 5, buy: 5, threshold: 4 - buying\n",
      "(1995-08-28 00:00:00) num_pass: 6, sell: 4, threshold: 4 - selling\n",
      "(1995-09-22 00:00:00) num_pass: 5, buy: 4, threshold: 4 - buying\n",
      "(1995-10-10 00:00:00) num_pass: 7, sell: 4, threshold: 4 - selling\n",
      "(1995-12-27 00:00:00) num_pass: 6, buy: 5, threshold: 4 - buying\n",
      "(1996-02-08 00:00:00) num_pass: 6, sell: 6, threshold: 4 - selling\n",
      "(1996-02-27 00:00:00) num_pass: 5, buy: 5, threshold: 4 - buying\n",
      "(1996-03-06 00:00:00) num_pass: 5, sell: 4, threshold: 4 - selling\n",
      "(1996-04-18 00:00:00) num_pass: 6, buy: 4, threshold: 4 - buying\n",
      "(1996-05-06 00:00:00) num_pass: 6, sell: 5, threshold: 4 - selling\n",
      "(1996-06-18 00:00:00) num_pass: 4, buy: 4, threshold: 4 - buying\n",
      "(1996-06-26 00:00:00) num_pass: 7, sell: 4, threshold: 4 - selling\n",
      "(1996-07-05 00:00:00) num_pass: 6, buy: 6, threshold: 4 - buying\n",
      "(1996-07-31 00:00:00) num_pass: 6, sell: 4, threshold: 4 - selling\n",
      "(1996-08-08 00:00:00) num_pass: 5, buy: 4, threshold: 4 - buying\n",
      "(1996-08-16 00:00:00) num_pass: 7, sell: 5, threshold: 4 - selling\n",
      "(1996-09-12 00:00:00) num_pass: 5, buy: 4, threshold: 4 - buying\n",
      "(1996-09-20 00:00:00) num_pass: 6, sell: 4, threshold: 4 - selling\n",
      "(1996-09-30 00:00:00) num_pass: 5, buy: 4, threshold: 4 - buying\n",
      "(1996-10-16 00:00:00) num_pass: 6, sell: 4, threshold: 4 - selling\n",
      "(1996-12-06 00:00:00) num_pass: 5, buy: 5, threshold: 4 - buying\n",
      "(1996-12-24 00:00:00) num_pass: 6, sell: 5, threshold: 4 - selling\n",
      "(1997-02-25 00:00:00) num_pass: 5, buy: 4, threshold: 4 - buying\n",
      "(1997-07-22 00:00:00) num_pass: 6, sell: 4, threshold: 4 - selling\n",
      "(1997-08-07 00:00:00) num_pass: 5, buy: 4, threshold: 4 - buying\n",
      "(1997-08-15 00:00:00) num_pass: 5, sell: 4, threshold: 4 - selling\n",
      "(1997-11-10 00:00:00) num_pass: 5, buy: 4, threshold: 4 - buying\n",
      "(1998-02-06 00:00:00) num_pass: 6, sell: 5, threshold: 4 - selling\n",
      "(1998-03-05 00:00:00) num_pass: 6, buy: 4, threshold: 4 - buying\n",
      "(1998-05-05 00:00:00) num_pass: 4, sell: 4, threshold: 4 - selling\n",
      "(1998-06-25 00:00:00) num_pass: 5, buy: 4, threshold: 4 - buying\n",
      "(1998-07-30 00:00:00) num_pass: 5, sell: 4, threshold: 4 - selling\n",
      "(1998-08-17 00:00:00) num_pass: 6, buy: 4, threshold: 4 - buying\n",
      "(1998-09-21 00:00:00) num_pass: 6, sell: 4, threshold: 4 - selling\n",
      "(1998-09-29 00:00:00) num_pass: 6, buy: 4, threshold: 4 - buying\n",
      "(1998-10-23 00:00:00) num_pass: 7, sell: 4, threshold: 4 - selling\n",
      "(1998-11-02 00:00:00) num_pass: 6, buy: 4, threshold: 4 - buying\n",
      "(1998-11-18 00:00:00) num_pass: 6, sell: 4, threshold: 4 - selling\n",
      "(1998-11-27 00:00:00) num_pass: 6, buy: 5, threshold: 4 - buying\n",
      "(1998-12-07 00:00:00) num_pass: 7, sell: 6, threshold: 4 - selling\n",
      "(1999-01-21 00:00:00) num_pass: 4, buy: 4, threshold: 4 - buying\n",
      "(1999-03-23 00:00:00) num_pass: 6, sell: 4, threshold: 4 - selling\n",
      "(1999-03-31 00:00:00) num_pass: 5, buy: 4, threshold: 4 - buying\n",
      "(1999-06-25 00:00:00) num_pass: 6, sell: 4, threshold: 4 - selling\n",
      "(1999-07-06 00:00:00) num_pass: 6, buy: 4, threshold: 4 - buying\n",
      "(1999-07-22 00:00:00) num_pass: 6, sell: 6, threshold: 4 - selling\n",
      "(1999-07-30 00:00:00) num_pass: 6, buy: 4, threshold: 4 - buying\n",
      "(1999-08-25 00:00:00) num_pass: 6, sell: 5, threshold: 4 - selling\n",
      "(1999-09-29 00:00:00) num_pass: 5, buy: 4, threshold: 4 - buying\n",
      "(1999-11-18 00:00:00) num_pass: 6, sell: 4, threshold: 4 - selling\n",
      "(2000-02-15 00:00:00) num_pass: 5, buy: 4, threshold: 4 - buying\n",
      "(2000-07-03 00:00:00) num_pass: 5, sell: 4, threshold: 4 - selling\n",
      "(2000-08-07 00:00:00) num_pass: 5, buy: 4, threshold: 4 - buying\n",
      "(2000-11-27 00:00:00) num_pass: 4, sell: 4, threshold: 4 - selling\n",
      "(2001-04-06 00:00:00) num_pass: 6, buy: 4, threshold: 4 - buying\n",
      "(2001-04-25 00:00:00) num_pass: 6, sell: 5, threshold: 4 - selling\n",
      "(2001-05-21 00:00:00) num_pass: 7, buy: 4, threshold: 4 - buying\n",
      "(2001-05-30 00:00:00) num_pass: 5, sell: 4, threshold: 4 - selling\n",
      "(2001-07-30 00:00:00) num_pass: 7, buy: 5, threshold: 4 - buying\n",
      "(2001-08-31 00:00:00) num_pass: 7, sell: 4, threshold: 4 - selling\n",
      "(2001-09-25 00:00:00) num_pass: 5, buy: 4, threshold: 4 - buying\n",
      "(2001-11-14 00:00:00) num_pass: 5, sell: 5, threshold: 4 - selling\n",
      "(2002-03-11 00:00:00) num_pass: 5, buy: 4, threshold: 4 - buying\n",
      "(2002-03-19 00:00:00) num_pass: 6, sell: 4, threshold: 4 - selling\n",
      "(2002-06-21 00:00:00) num_pass: 5, buy: 5, threshold: 4 - buying\n",
      "(2002-08-29 00:00:00) num_pass: 5, sell: 4, threshold: 4 - selling\n",
      "(2003-01-08 00:00:00) num_pass: 5, buy: 4, threshold: 4 - buying\n",
      "(2003-03-03 00:00:00) num_pass: 5, sell: 4, threshold: 4 - selling\n",
      "(2003-03-11 00:00:00) num_pass: 4, buy: 4, threshold: 4 - buying\n",
      "(2003-05-09 00:00:00) num_pass: 6, sell: 4, threshold: 4 - selling\n",
      "(2003-07-10 00:00:00) num_pass: 5, buy: 4, threshold: 4 - buying\n",
      "(2003-08-05 00:00:00) num_pass: 6, sell: 4, threshold: 4 - selling\n",
      "(2003-09-09 00:00:00) num_pass: 6, buy: 5, threshold: 4 - buying\n",
      "(2003-12-11 00:00:00) num_pass: 5, sell: 4, threshold: 4 - selling\n",
      "(2003-12-30 00:00:00) num_pass: 4, buy: 4, threshold: 4 - buying\n",
      "(2004-01-08 00:00:00) num_pass: 5, sell: 4, threshold: 4 - selling\n",
      "(2004-03-10 00:00:00) num_pass: 6, buy: 5, threshold: 4 - buying\n",
      "(2004-05-10 00:00:00) num_pass: 5, sell: 4, threshold: 4 - selling\n",
      "(2004-06-15 00:00:00) num_pass: 6, buy: 4, threshold: 4 - buying\n",
      "(2004-10-21 00:00:00) num_pass: 5, sell: 5, threshold: 4 - selling\n",
      "(2004-11-16 00:00:00) num_pass: 7, buy: 4, threshold: 4 - buying\n",
      "(2005-06-22 00:00:00) num_pass: 5, sell: 5, threshold: 4 - selling\n",
      "(2005-08-04 00:00:00) num_pass: 5, buy: 4, threshold: 4 - buying\n",
      "(2005-08-22 00:00:00) num_pass: 5, sell: 4, threshold: 4 - selling\n",
      "(2005-11-07 00:00:00) num_pass: 6, buy: 4, threshold: 4 - buying\n",
      "(2005-12-02 00:00:00) num_pass: 5, sell: 5, threshold: 4 - selling\n",
      "(2006-05-02 00:00:00) num_pass: 4, buy: 4, threshold: 4 - buying\n",
      "(2006-05-10 00:00:00) num_pass: 5, sell: 4, threshold: 4 - selling\n",
      "(2006-05-18 00:00:00) num_pass: 6, buy: 4, threshold: 4 - buying\n",
      "(2006-06-06 00:00:00) num_pass: 6, sell: 4, threshold: 4 - selling\n",
      "(2006-06-14 00:00:00) num_pass: 5, buy: 4, threshold: 4 - buying\n",
      "(2006-08-04 00:00:00) num_pass: 5, sell: 4, threshold: 4 - selling\n",
      "(2006-09-18 00:00:00) num_pass: 6, buy: 4, threshold: 4 - buying\n",
      "(2007-03-13 00:00:00) num_pass: 6, sell: 4, threshold: 4 - selling\n",
      "(2007-05-11 00:00:00) num_pass: 4, buy: 4, threshold: 4 - buying\n",
      "(2007-05-21 00:00:00) num_pass: 4, sell: 4, threshold: 4 - selling\n",
      "(2007-08-15 00:00:00) num_pass: 4, buy: 4, threshold: 4 - buying\n"
     ]
    },
    {
     "name": "stdout",
     "output_type": "stream",
     "text": [
      "(2007-11-08 00:00:00) num_pass: 5, sell: 4, threshold: 4 - selling\n",
      "(2007-11-16 00:00:00) num_pass: 6, buy: 5, threshold: 4 - buying\n",
      "(2007-12-13 00:00:00) num_pass: 5, sell: 4, threshold: 4 - selling\n",
      "(2008-01-10 00:00:00) num_pass: 6, buy: 4, threshold: 4 - buying\n",
      "(2008-01-18 00:00:00) num_pass: 6, sell: 4, threshold: 4 - selling\n",
      "(2008-03-04 00:00:00) num_pass: 6, buy: 4, threshold: 4 - buying\n",
      "(2008-03-20 00:00:00) num_pass: 4, sell: 4, threshold: 4 - selling\n",
      "(2008-07-11 00:00:00) num_pass: 5, buy: 4, threshold: 4 - buying\n",
      "(2009-01-28 00:00:00) num_pass: 5, sell: 4, threshold: 4 - selling\n",
      "(2009-02-05 00:00:00) num_pass: 5, buy: 4, threshold: 4 - buying\n",
      "(2009-05-20 00:00:00) num_pass: 5, sell: 5, threshold: 4 - selling\n",
      "(2009-07-02 00:00:00) num_pass: 4, buy: 4, threshold: 4 - buying\n",
      "(2009-08-24 00:00:00) num_pass: 6, sell: 4, threshold: 4 - selling\n",
      "(2009-09-01 00:00:00) num_pass: 6, buy: 4, threshold: 4 - buying\n",
      "(2009-09-18 00:00:00) num_pass: 5, sell: 4, threshold: 4 - selling\n",
      "(2009-12-31 00:00:00) num_pass: 5, buy: 5, threshold: 4 - buying\n",
      "(2010-04-16 00:00:00) num_pass: 6, sell: 4, threshold: 4 - selling\n",
      "(2010-05-12 00:00:00) num_pass: 7, buy: 4, threshold: 4 - buying\n",
      "(2010-07-21 00:00:00) num_pass: 5, sell: 4, threshold: 4 - selling\n",
      "(2010-11-01 00:00:00) num_pass: 4, buy: 4, threshold: 4 - buying\n",
      "(2011-01-10 00:00:00) num_pass: 4, sell: 4, threshold: 4 - selling\n",
      "(2011-02-14 00:00:00) num_pass: 5, buy: 5, threshold: 4 - buying\n",
      "(2011-03-21 00:00:00) num_pass: 5, sell: 4, threshold: 4 - selling\n",
      "(2011-04-06 00:00:00) num_pass: 5, buy: 4, threshold: 4 - buying\n",
      "(2011-05-27 00:00:00) num_pass: 5, sell: 4, threshold: 4 - selling\n",
      "(2011-06-15 00:00:00) num_pass: 5, buy: 4, threshold: 4 - buying\n",
      "(2011-08-15 00:00:00) num_pass: 5, sell: 4, threshold: 4 - selling\n",
      "(2011-11-25 00:00:00) num_pass: 5, buy: 4, threshold: 4 - buying\n",
      "(2012-04-16 00:00:00) num_pass: 5, sell: 4, threshold: 4 - selling\n",
      "(2012-05-18 00:00:00) num_pass: 5, buy: 4, threshold: 4 - buying\n",
      "(2013-01-11 00:00:00) num_pass: 5, sell: 4, threshold: 4 - selling\n",
      "(2013-01-30 00:00:00) num_pass: 4, buy: 4, threshold: 4 - buying\n",
      "(2013-03-22 00:00:00) num_pass: 4, sell: 4, threshold: 4 - selling\n",
      "(2013-05-14 00:00:00) num_pass: 6, buy: 4, threshold: 4 - buying\n",
      "(2013-09-04 00:00:00) num_pass: 6, sell: 4, threshold: 4 - selling\n",
      "(2013-10-16 00:00:00) num_pass: 5, buy: 4, threshold: 4 - buying\n",
      "(2013-11-19 00:00:00) num_pass: 4, sell: 4, threshold: 4 - selling\n",
      "(2014-01-03 00:00:00) num_pass: 5, buy: 4, threshold: 4 - buying\n",
      "(2014-02-26 00:00:00) num_pass: 5, sell: 4, threshold: 4 - selling\n",
      "(2014-03-06 00:00:00) num_pass: 5, buy: 4, threshold: 4 - buying\n",
      "(2014-04-01 00:00:00) num_pass: 6, sell: 4, threshold: 4 - selling\n",
      "(2014-04-17 00:00:00) num_pass: 5, buy: 4, threshold: 4 - buying\n",
      "(2014-06-18 00:00:00) num_pass: 5, sell: 4, threshold: 4 - selling\n",
      "(2014-08-08 00:00:00) num_pass: 6, buy: 4, threshold: 4 - buying\n",
      "(2014-09-30 00:00:00) num_pass: 5, sell: 4, threshold: 4 - selling\n",
      "(2014-11-11 00:00:00) num_pass: 6, buy: 4, threshold: 4 - buying\n",
      "(2014-11-19 00:00:00) num_pass: 5, sell: 4, threshold: 4 - selling\n",
      "(2014-12-16 00:00:00) num_pass: 5, buy: 4, threshold: 4 - buying\n",
      "(2014-12-24 00:00:00) num_pass: 6, sell: 4, threshold: 4 - selling\n",
      "(2015-01-05 00:00:00) num_pass: 5, buy: 4, threshold: 4 - buying\n",
      "(2015-03-24 00:00:00) num_pass: 5, sell: 5, threshold: 4 - selling\n",
      "(2015-04-20 00:00:00) num_pass: 6, buy: 4, threshold: 4 - buying\n",
      "(2015-05-22 00:00:00) num_pass: 5, sell: 4, threshold: 4 - selling\n",
      "(2015-10-08 00:00:00) num_pass: 6, buy: 4, threshold: 4 - buying\n",
      "(2015-12-08 00:00:00) num_pass: 5, sell: 4, threshold: 4 - selling\n",
      "(2016-01-05 00:00:00) num_pass: 4, buy: 4, threshold: 4 - buying\n",
      "(2016-02-18 00:00:00) num_pass: 6, sell: 4, threshold: 4 - selling\n",
      "(2016-04-27 00:00:00) num_pass: 5, buy: 4, threshold: 4 - buying\n",
      "(2016-08-17 00:00:00) num_pass: 6, sell: 4, threshold: 4 - selling\n",
      "(2016-09-02 00:00:00) num_pass: 5, buy: 4, threshold: 4 - buying\n",
      "(2017-02-27 00:00:00) num_pass: 6, sell: 4, threshold: 4 - selling\n",
      "(2017-09-21 00:00:00) num_pass: 5, buy: 4, threshold: 4 - buying\n",
      "(2018-06-01 00:00:00) num_pass: 4, sell: 4, threshold: 4 - selling\n",
      "(2018-08-09 00:00:00) num_pass: 5, buy: 4, threshold: 4 - buying\n",
      "(2018-09-13 00:00:00) num_pass: 5, sell: 4, threshold: 4 - selling\n",
      "(2019-02-11 00:00:00) num_pass: 4, buy: 4, threshold: 4 - buying\n",
      "(2019-06-20 00:00:00) num_pass: 5, sell: 4, threshold: 4 - selling\n",
      "(2019-07-17 00:00:00) num_pass: 5, buy: 4, threshold: 4 - buying\n",
      "(2019-07-25 00:00:00) num_pass: 5, sell: 4, threshold: 4 - selling\n",
      "(2019-08-02 00:00:00) num_pass: 5, buy: 4, threshold: 4 - buying\n",
      "(2019-10-02 00:00:00) num_pass: 5, sell: 4, threshold: 4 - selling\n",
      "(2019-10-10 00:00:00) num_pass: 5, buy: 4, threshold: 4 - buying\n",
      "(2019-12-10 00:00:00) num_pass: 5, sell: 4, threshold: 4 - selling\n",
      "(2019-12-18 00:00:00) num_pass: 6, buy: 4, threshold: 4 - buying\n",
      "(2020-01-07 00:00:00) num_pass: 5, sell: 4, threshold: 4 - selling\n",
      "(2020-01-15 00:00:00) num_pass: 5, buy: 4, threshold: 4 - buying\n",
      "(2020-05-07 00:00:00) num_pass: 5, sell: 4, threshold: 4 - selling\n",
      "(2020-06-29 00:00:00) num_pass: 5, buy: 4, threshold: 4 - buying\n",
      "(2020-09-15 00:00:00) num_pass: 6, sell: 5, threshold: 4 - selling\n",
      "(2021-01-14 00:00:00) num_pass: 5, buy: 4, threshold: 4 - buying\n",
      "close value: 373576.46618652344\n"
     ]
    }
   ],
   "source": [
    "train_days = 60 # number of days to train on\n",
    "predict_days = 6 # prediction window\n",
    "max_rank = 30 # number of cycles to fit to training data\n",
    "method = \"absolute\" # absolute cycles requirement\n",
    "sell_thresh = 4 # required number of cycles with maxes in prediction window to buy\n",
    "buy_thresh = 4 # required number of cycles with mins in prediction window to sell\n",
    "min_len_factor = 2 # eligible cycles have period > min_len_factor * predict_days\n",
    "\n",
    "print(\"processing:\",symbol)\n",
    "p_new = test.cycles(\\\n",
    "    train_days=train_days,\n",
    "    predict_days=predict_days,\n",
    "    max_rank=max_rank,\n",
    "    method=method,\n",
    "    min_len_factor=min_len_factor,\n",
    "    sell_thresh=sell_thresh,\n",
    "    buy_thresh=buy_thresh\n",
    "    )\n",
    "print(\"close value:\",p_new.value())"
   ]
  },
  {
   "cell_type": "code",
   "execution_count": 8,
   "id": "north-danish",
   "metadata": {
    "tags": []
   },
   "outputs": [
    {
     "data": {
      "text/html": [
       "<div>\n",
       "<style scoped>\n",
       "    .dataframe tbody tr th:only-of-type {\n",
       "        vertical-align: middle;\n",
       "    }\n",
       "\n",
       "    .dataframe tbody tr th {\n",
       "        vertical-align: top;\n",
       "    }\n",
       "\n",
       "    .dataframe thead th {\n",
       "        text-align: right;\n",
       "    }\n",
       "</style>\n",
       "<table border=\"1\" class=\"dataframe\">\n",
       "  <thead>\n",
       "    <tr style=\"text-align: right;\">\n",
       "      <th></th>\n",
       "      <th>cash</th>\n",
       "      <th>^IXIC</th>\n",
       "    </tr>\n",
       "  </thead>\n",
       "  <tbody>\n",
       "    <tr>\n",
       "      <th>1992-01-02</th>\n",
       "      <td>151.748962</td>\n",
       "      <td>85.0</td>\n",
       "    </tr>\n",
       "    <tr>\n",
       "      <th>1992-02-13</th>\n",
       "      <td>54475.246887</td>\n",
       "      <td>0.0</td>\n",
       "    </tr>\n",
       "    <tr>\n",
       "      <th>1992-02-24</th>\n",
       "      <td>106.337524</td>\n",
       "      <td>87.0</td>\n",
       "    </tr>\n",
       "    <tr>\n",
       "      <th>1992-05-28</th>\n",
       "      <td>50608.966675</td>\n",
       "      <td>0.0</td>\n",
       "    </tr>\n",
       "    <tr>\n",
       "      <th>1992-07-10</th>\n",
       "      <td>74.767761</td>\n",
       "      <td>89.0</td>\n",
       "    </tr>\n",
       "    <tr>\n",
       "      <th>...</th>\n",
       "      <td>...</td>\n",
       "      <td>...</td>\n",
       "    </tr>\n",
       "    <tr>\n",
       "      <th>2020-05-15</th>\n",
       "      <td>380940.755249</td>\n",
       "      <td>0.0</td>\n",
       "    </tr>\n",
       "    <tr>\n",
       "      <th>2020-07-08</th>\n",
       "      <td>3210.755249</td>\n",
       "      <td>36.0</td>\n",
       "    </tr>\n",
       "    <tr>\n",
       "      <th>2020-09-23</th>\n",
       "      <td>385998.403687</td>\n",
       "      <td>0.0</td>\n",
       "    </tr>\n",
       "    <tr>\n",
       "      <th>2021-01-25</th>\n",
       "      <td>4190.677124</td>\n",
       "      <td>28.0</td>\n",
       "    </tr>\n",
       "    <tr>\n",
       "      <th>2021-02-26</th>\n",
       "      <td>4190.677124</td>\n",
       "      <td>28.0</td>\n",
       "    </tr>\n",
       "  </tbody>\n",
       "</table>\n",
       "<p>206 rows × 2 columns</p>\n",
       "</div>"
      ],
      "text/plain": [
       "                     cash  ^IXIC\n",
       "1992-01-02     151.748962   85.0\n",
       "1992-02-13   54475.246887    0.0\n",
       "1992-02-24     106.337524   87.0\n",
       "1992-05-28   50608.966675    0.0\n",
       "1992-07-10      74.767761   89.0\n",
       "...                   ...    ...\n",
       "2020-05-15  380940.755249    0.0\n",
       "2020-07-08    3210.755249   36.0\n",
       "2020-09-23  385998.403687    0.0\n",
       "2021-01-25    4190.677124   28.0\n",
       "2021-02-26    4190.677124   28.0\n",
       "\n",
       "[206 rows x 2 columns]"
      ]
     },
     "execution_count": 8,
     "metadata": {},
     "output_type": "execute_result"
    }
   ],
   "source": [
    "p_new.positions"
   ]
  },
  {
   "cell_type": "markdown",
   "id": "guided-senator",
   "metadata": {},
   "source": [
    "Plot showing price history with buy and sell events"
   ]
  },
  {
   "cell_type": "code",
   "execution_count": 9,
   "id": "animated-mystery",
   "metadata": {},
   "outputs": [
    {
     "data": {
      "text/plain": [
       "Text(0.5, 1.0, 'cycles: ^IXIC')"
      ]
     },
     "execution_count": 9,
     "metadata": {},
     "output_type": "execute_result"
    },
    {
     "data": {
      "image/png": "[encoded data removed]",
      "text/plain": [
       "<Figure size 640x480 with 1 Axes>"
      ]
     },
     "metadata": {},
     "output_type": "display_data"
    }
   ],
   "source": [
    "data = read_adj_close([symbol])\n",
    "data_dates = data.index\n",
    "\n",
    "s_idx = np.where(data_dates == start_date)[0][0]\n",
    "e_idx = np.where(data_dates == end_date)[0][0]\n",
    "\n",
    "plt.plot(data[symbol].index[s_idx:e_idx],data[symbol].values[s_idx:e_idx])\n",
    "for d in p_new.positions.index[np.where(p_new.positions[symbol].values == 0)]:\n",
    "    plt.axvline(d, c='r')\n",
    "\n",
    "for d in p_new.positions.index[np.where(p_new.positions[symbol].values != 0)]:\n",
    "    plt.axvline(d, c='g')\n",
    "\n",
    "plt.axvline(pd.to_datetime(start_date), c='g', label='buy')\n",
    "plt.axvline(pd.to_datetime(end_date), c='r', label='sell')\n",
    "plt.xlabel('year')\n",
    "plt.ylabel('closing price')\n",
    "plt.legend(loc=2)\n",
    "plt.title(f\"cycles: {symbol}\")"
   ]
  },
  {
   "cell_type": "code",
   "execution_count": null,
   "id": "placed-sally",
   "metadata": {},
   "outputs": [],
   "source": []
  },
  {
   "cell_type": "code",
   "execution_count": null,
   "id": "70a0489c",
   "metadata": {},
   "outputs": [],
   "source": []
  }
 ],
 "metadata": {
  "kernelspec": {
   "display_name": "Python 3 (ipykernel)",
   "language": "python",
   "name": "python3"
  },
  "language_info": {
   "codemirror_mode": {
    "name": "ipython",
    "version": 3
   },
   "file_extension": ".py",
   "mimetype": "text/x-python",
   "name": "python",
   "nbconvert_exporter": "python",
   "pygments_lexer": "ipython3",
   "version": "3.9.13"
  }
 },
 "nbformat": 4,
 "nbformat_minor": 5
}
